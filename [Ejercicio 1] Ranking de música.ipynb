{
 "cells": [
  {
   "cell_type": "markdown",
   "metadata": {
    "id": "KQ6GCzuX2tCx"
   },
   "source": [
    "# Introducción\n",
    "\n",
    "Vamos a analizar un conjunto de datos de canciones y sus estadísticas por semanas: `listas_musica.csv`\n",
    "\n",
    "Es un conjunto de datos que nos permite trabajar los conceptos de `pandas` y `numpy`.\n",
    "\n",
    "El ejercicio será guiado aunque se permite no ver las soluciones para realizar las tareas.\n",
    "\n",
    "Las columnas del `dataset` son:\n",
    "\n",
    "* `date`:\tTipo `date` - Fecha de la lista.\n",
    "* `rank`:\tTipo `int`\t- Posición del ranking de la canción en esa fecha.\n",
    "* `song`:\tTipo `str`\t- Nombre de la canción.\n",
    "* `artist`:\tTipo `str` - Artista.\n",
    "* `last-week`:\tTipo `int` -\tPosición en el ranking de la semana anterior.\n",
    "* `peak-rank`: Tipo `int`\t- La mejor posición de la canción en el ranking.\n",
    "* `weeks-on-board`: Tipo `int` -\tNúmero de semanas que la canción lleva en la lista.\n",
    "\n",
    "\n",
    "\n"
   ]
  },
  {
   "cell_type": "markdown",
   "metadata": {
    "id": "zUW-6NIM4gpy"
   },
   "source": [
    "# Carga de librerías\n",
    "\n",
    "Cargue las librerías `numpy`, `pandas` y `os`.\n"
   ]
  },
  {
   "cell_type": "markdown",
   "metadata": {
    "id": "h-cs0hLw4rqS"
   },
   "source": [
    "### Solución"
   ]
  },
  {
   "cell_type": "code",
   "execution_count": 22,
   "metadata": {
    "executionInfo": {
     "elapsed": 373,
     "status": "ok",
     "timestamp": 1655459927878,
     "user": {
      "displayName": "Andrés Mateo Piñol",
      "userId": "06388070174337757510"
     },
     "user_tz": -120
    },
    "id": "ssX1f3qK0SR0"
   },
   "outputs": [],
   "source": [
    "# Importar librerías con las que trabajaremos\n",
    "import numpy as np \n",
    "import pandas as pd \n"
   ]
  },
  {
   "cell_type": "markdown",
   "metadata": {
    "id": "TeNAWI0-49xh"
   },
   "source": [
    "# Carga del dataset\n",
    "\n",
    "Lea el dataset y conviértalo en un `dataframe`.\n",
    "\n",
    "Imprima el dataset una vez lo tenga."
   ]
  },
  {
   "cell_type": "markdown",
   "metadata": {
    "id": "YLf2hgSZ5JSq"
   },
   "source": [
    "### Solución"
   ]
  },
  {
   "cell_type": "code",
   "execution_count": 23,
   "metadata": {
    "colab": {
     "base_uri": "https://localhost:8080/",
     "height": 363
    },
    "executionInfo": {
     "elapsed": 585,
     "status": "error",
     "timestamp": 1655455803752,
     "user": {
      "displayName": "Andrés Mateo Piñol",
      "userId": "06388070174337757510"
     },
     "user_tz": -120
    },
    "id": "MypOpBTS1-zR",
    "outputId": "a7ac8856-afbe-4ec4-8e9a-71829f4621ea"
   },
   "outputs": [
    {
     "data": {
      "text/html": [
       "<div>\n",
       "<style scoped>\n",
       "    .dataframe tbody tr th:only-of-type {\n",
       "        vertical-align: middle;\n",
       "    }\n",
       "\n",
       "    .dataframe tbody tr th {\n",
       "        vertical-align: top;\n",
       "    }\n",
       "\n",
       "    .dataframe thead th {\n",
       "        text-align: right;\n",
       "    }\n",
       "</style>\n",
       "<table border=\"1\" class=\"dataframe\">\n",
       "  <thead>\n",
       "    <tr style=\"text-align: right;\">\n",
       "      <th></th>\n",
       "      <th>date</th>\n",
       "      <th>rank</th>\n",
       "      <th>song</th>\n",
       "      <th>artist</th>\n",
       "      <th>last-week</th>\n",
       "      <th>peak-rank</th>\n",
       "      <th>weeks-on-board</th>\n",
       "    </tr>\n",
       "  </thead>\n",
       "  <tbody>\n",
       "    <tr>\n",
       "      <th>0</th>\n",
       "      <td>2021-11-06</td>\n",
       "      <td>1</td>\n",
       "      <td>Easy On Me</td>\n",
       "      <td>Adele</td>\n",
       "      <td>1.0</td>\n",
       "      <td>1</td>\n",
       "      <td>3</td>\n",
       "    </tr>\n",
       "    <tr>\n",
       "      <th>1</th>\n",
       "      <td>2021-11-06</td>\n",
       "      <td>2</td>\n",
       "      <td>Stay</td>\n",
       "      <td>The Kid LAROI &amp; Justin Bieber</td>\n",
       "      <td>2.0</td>\n",
       "      <td>1</td>\n",
       "      <td>16</td>\n",
       "    </tr>\n",
       "    <tr>\n",
       "      <th>2</th>\n",
       "      <td>2021-11-06</td>\n",
       "      <td>3</td>\n",
       "      <td>Industry Baby</td>\n",
       "      <td>Lil Nas X &amp; Jack Harlow</td>\n",
       "      <td>3.0</td>\n",
       "      <td>1</td>\n",
       "      <td>14</td>\n",
       "    </tr>\n",
       "    <tr>\n",
       "      <th>3</th>\n",
       "      <td>2021-11-06</td>\n",
       "      <td>4</td>\n",
       "      <td>Fancy Like</td>\n",
       "      <td>Walker Hayes</td>\n",
       "      <td>4.0</td>\n",
       "      <td>3</td>\n",
       "      <td>19</td>\n",
       "    </tr>\n",
       "    <tr>\n",
       "      <th>4</th>\n",
       "      <td>2021-11-06</td>\n",
       "      <td>5</td>\n",
       "      <td>Bad Habits</td>\n",
       "      <td>Ed Sheeran</td>\n",
       "      <td>5.0</td>\n",
       "      <td>2</td>\n",
       "      <td>18</td>\n",
       "    </tr>\n",
       "    <tr>\n",
       "      <th>...</th>\n",
       "      <td>...</td>\n",
       "      <td>...</td>\n",
       "      <td>...</td>\n",
       "      <td>...</td>\n",
       "      <td>...</td>\n",
       "      <td>...</td>\n",
       "      <td>...</td>\n",
       "    </tr>\n",
       "    <tr>\n",
       "      <th>330082</th>\n",
       "      <td>1958-08-04</td>\n",
       "      <td>96</td>\n",
       "      <td>Over And Over</td>\n",
       "      <td>Thurston Harris</td>\n",
       "      <td>NaN</td>\n",
       "      <td>96</td>\n",
       "      <td>1</td>\n",
       "    </tr>\n",
       "    <tr>\n",
       "      <th>330083</th>\n",
       "      <td>1958-08-04</td>\n",
       "      <td>97</td>\n",
       "      <td>I Believe In You</td>\n",
       "      <td>Robert &amp; Johnny</td>\n",
       "      <td>NaN</td>\n",
       "      <td>97</td>\n",
       "      <td>1</td>\n",
       "    </tr>\n",
       "    <tr>\n",
       "      <th>330084</th>\n",
       "      <td>1958-08-04</td>\n",
       "      <td>98</td>\n",
       "      <td>Little Serenade</td>\n",
       "      <td>The Ames Brothers</td>\n",
       "      <td>NaN</td>\n",
       "      <td>98</td>\n",
       "      <td>1</td>\n",
       "    </tr>\n",
       "    <tr>\n",
       "      <th>330085</th>\n",
       "      <td>1958-08-04</td>\n",
       "      <td>99</td>\n",
       "      <td>I'll Get By (As Long As I Have You)</td>\n",
       "      <td>Billy Williams</td>\n",
       "      <td>NaN</td>\n",
       "      <td>99</td>\n",
       "      <td>1</td>\n",
       "    </tr>\n",
       "    <tr>\n",
       "      <th>330086</th>\n",
       "      <td>1958-08-04</td>\n",
       "      <td>100</td>\n",
       "      <td>Judy</td>\n",
       "      <td>Frankie Vaughan</td>\n",
       "      <td>NaN</td>\n",
       "      <td>100</td>\n",
       "      <td>1</td>\n",
       "    </tr>\n",
       "  </tbody>\n",
       "</table>\n",
       "<p>330087 rows × 7 columns</p>\n",
       "</div>"
      ],
      "text/plain": [
       "              date  rank                                 song  \\\n",
       "0       2021-11-06     1                           Easy On Me   \n",
       "1       2021-11-06     2                                 Stay   \n",
       "2       2021-11-06     3                        Industry Baby   \n",
       "3       2021-11-06     4                           Fancy Like   \n",
       "4       2021-11-06     5                           Bad Habits   \n",
       "...            ...   ...                                  ...   \n",
       "330082  1958-08-04    96                        Over And Over   \n",
       "330083  1958-08-04    97                     I Believe In You   \n",
       "330084  1958-08-04    98                      Little Serenade   \n",
       "330085  1958-08-04    99  I'll Get By (As Long As I Have You)   \n",
       "330086  1958-08-04   100                                 Judy   \n",
       "\n",
       "                               artist  last-week  peak-rank  weeks-on-board  \n",
       "0                               Adele        1.0          1               3  \n",
       "1       The Kid LAROI & Justin Bieber        2.0          1              16  \n",
       "2             Lil Nas X & Jack Harlow        3.0          1              14  \n",
       "3                        Walker Hayes        4.0          3              19  \n",
       "4                          Ed Sheeran        5.0          2              18  \n",
       "...                               ...        ...        ...             ...  \n",
       "330082                Thurston Harris        NaN         96               1  \n",
       "330083                Robert & Johnny        NaN         97               1  \n",
       "330084              The Ames Brothers        NaN         98               1  \n",
       "330085                 Billy Williams        NaN         99               1  \n",
       "330086                Frankie Vaughan        NaN        100               1  \n",
       "\n",
       "[330087 rows x 7 columns]"
      ]
     },
     "execution_count": 23,
     "metadata": {},
     "output_type": "execute_result"
    }
   ],
   "source": [
    "# Solución al problema de importat CVS para Mac\n",
    "import ssl\n",
    "\n",
    "ssl._create_default_https_context = ssl._create_stdlib_context\n",
    "\n",
    "# Leemos archivo\n",
    "df = pd.read_csv('listas_musica.csv')\n",
    "\n",
    "df"
   ]
  },
  {
   "cell_type": "markdown",
   "metadata": {
    "id": "LAVNhscV5b06"
   },
   "source": [
    "#Limpieza de datos\n",
    "\n",
    "Rellene con `0` usando `fillna()`."
   ]
  },
  {
   "cell_type": "markdown",
   "metadata": {
    "id": "AfEExnCD5qEP"
   },
   "source": [
    "### Solución"
   ]
  },
  {
   "cell_type": "code",
   "execution_count": 24,
   "metadata": {},
   "outputs": [],
   "source": [
    "df = df.fillna(0)"
   ]
  },
  {
   "cell_type": "markdown",
   "metadata": {
    "id": "4YyrHo1A5lCK"
   },
   "source": [
    "# Imprima algunos valores de ejemplos\n",
    "\n",
    "Use `tail()` para imprimir algunos valores.\n",
    "\n",
    "Fíjese en las columnas del dataset."
   ]
  },
  {
   "cell_type": "markdown",
   "metadata": {
    "id": "fh4WS8yx50s4"
   },
   "source": [
    "### Solución"
   ]
  },
  {
   "cell_type": "code",
   "execution_count": 25,
   "metadata": {
    "colab": {
     "base_uri": "https://localhost:8080/",
     "height": 206
    },
    "executionInfo": {
     "elapsed": 239,
     "status": "ok",
     "timestamp": 1653928922553,
     "user": {
      "displayName": "Jose Antonio Lagares Rodriguez",
      "userId": "00469018537825658051"
     },
     "user_tz": -120
    },
    "id": "ONRHXJiT2H3p",
    "outputId": "7d93e9cb-b2d4-4157-c6c6-2dfe0499208a"
   },
   "outputs": [
    {
     "data": {
      "text/html": [
       "<div>\n",
       "<style scoped>\n",
       "    .dataframe tbody tr th:only-of-type {\n",
       "        vertical-align: middle;\n",
       "    }\n",
       "\n",
       "    .dataframe tbody tr th {\n",
       "        vertical-align: top;\n",
       "    }\n",
       "\n",
       "    .dataframe thead th {\n",
       "        text-align: right;\n",
       "    }\n",
       "</style>\n",
       "<table border=\"1\" class=\"dataframe\">\n",
       "  <thead>\n",
       "    <tr style=\"text-align: right;\">\n",
       "      <th></th>\n",
       "      <th>date</th>\n",
       "      <th>rank</th>\n",
       "      <th>song</th>\n",
       "      <th>artist</th>\n",
       "      <th>last-week</th>\n",
       "      <th>peak-rank</th>\n",
       "      <th>weeks-on-board</th>\n",
       "    </tr>\n",
       "  </thead>\n",
       "  <tbody>\n",
       "    <tr>\n",
       "      <th>330082</th>\n",
       "      <td>1958-08-04</td>\n",
       "      <td>96</td>\n",
       "      <td>Over And Over</td>\n",
       "      <td>Thurston Harris</td>\n",
       "      <td>0.0</td>\n",
       "      <td>96</td>\n",
       "      <td>1</td>\n",
       "    </tr>\n",
       "    <tr>\n",
       "      <th>330083</th>\n",
       "      <td>1958-08-04</td>\n",
       "      <td>97</td>\n",
       "      <td>I Believe In You</td>\n",
       "      <td>Robert &amp; Johnny</td>\n",
       "      <td>0.0</td>\n",
       "      <td>97</td>\n",
       "      <td>1</td>\n",
       "    </tr>\n",
       "    <tr>\n",
       "      <th>330084</th>\n",
       "      <td>1958-08-04</td>\n",
       "      <td>98</td>\n",
       "      <td>Little Serenade</td>\n",
       "      <td>The Ames Brothers</td>\n",
       "      <td>0.0</td>\n",
       "      <td>98</td>\n",
       "      <td>1</td>\n",
       "    </tr>\n",
       "    <tr>\n",
       "      <th>330085</th>\n",
       "      <td>1958-08-04</td>\n",
       "      <td>99</td>\n",
       "      <td>I'll Get By (As Long As I Have You)</td>\n",
       "      <td>Billy Williams</td>\n",
       "      <td>0.0</td>\n",
       "      <td>99</td>\n",
       "      <td>1</td>\n",
       "    </tr>\n",
       "    <tr>\n",
       "      <th>330086</th>\n",
       "      <td>1958-08-04</td>\n",
       "      <td>100</td>\n",
       "      <td>Judy</td>\n",
       "      <td>Frankie Vaughan</td>\n",
       "      <td>0.0</td>\n",
       "      <td>100</td>\n",
       "      <td>1</td>\n",
       "    </tr>\n",
       "  </tbody>\n",
       "</table>\n",
       "</div>"
      ],
      "text/plain": [
       "              date  rank                                 song  \\\n",
       "330082  1958-08-04    96                        Over And Over   \n",
       "330083  1958-08-04    97                     I Believe In You   \n",
       "330084  1958-08-04    98                      Little Serenade   \n",
       "330085  1958-08-04    99  I'll Get By (As Long As I Have You)   \n",
       "330086  1958-08-04   100                                 Judy   \n",
       "\n",
       "                   artist  last-week  peak-rank  weeks-on-board  \n",
       "330082    Thurston Harris        0.0         96               1  \n",
       "330083    Robert & Johnny        0.0         97               1  \n",
       "330084  The Ames Brothers        0.0         98               1  \n",
       "330085     Billy Williams        0.0         99               1  \n",
       "330086    Frankie Vaughan        0.0        100               1  "
      ]
     },
     "execution_count": 25,
     "metadata": {},
     "output_type": "execute_result"
    }
   ],
   "source": [
    "df.tail(5)"
   ]
  },
  {
   "cell_type": "markdown",
   "metadata": {
    "id": "G7NVJXqd6Law"
   },
   "source": [
    "# Calcule los top 30 artistas\n",
    "\n",
    "Puede usar la función `value_counts()` y `head(...)`.\n",
    "\n",
    "Fíjese en usar la columna correspondiente."
   ]
  },
  {
   "cell_type": "markdown",
   "metadata": {
    "id": "Xqw6PZFl5_Kw"
   },
   "source": [
    "### Solución"
   ]
  },
  {
   "cell_type": "code",
   "execution_count": 26,
   "metadata": {},
   "outputs": [
    {
     "data": {
      "text/plain": [
       "artist\n",
       "Taylor Swift             1023\n",
       "Elton John                889\n",
       "Madonna                   857\n",
       "Drake                     787\n",
       "Kenny Chesney             769\n",
       "Tim McGraw                731\n",
       "Keith Urban               673\n",
       "Stevie Wonder             659\n",
       "Rod Stewart               657\n",
       "Mariah Carey              621\n",
       "Michael Jackson           611\n",
       "Chicago                   607\n",
       "Rascal Flatts             604\n",
       "Billy Joel                588\n",
       "The Rolling Stones        585\n",
       "The Beatles               585\n",
       "Jason Aldean              572\n",
       "Aretha Franklin           569\n",
       "Rihanna                   566\n",
       "P!nk                      564\n",
       "Whitney Houston           561\n",
       "Brad Paisley              559\n",
       "Neil Diamond              553\n",
       "George Strait             553\n",
       "Luke Bryan                543\n",
       "Carrie Underwood          541\n",
       "Daryl Hall John Oates     540\n",
       "The Beach Boys            531\n",
       "Toby Keith                526\n",
       "Bee Gees                  516\n",
       "Name: count, dtype: int64"
      ]
     },
     "execution_count": 26,
     "metadata": {},
     "output_type": "execute_result"
    }
   ],
   "source": [
    "df['artist'].value_counts().head(30)"
   ]
  },
  {
   "cell_type": "markdown",
   "metadata": {
    "id": "bhOxZGyxEz24"
   },
   "source": [
    "# Muestre el top 15 de canciones junto con su cantante"
   ]
  },
  {
   "cell_type": "markdown",
   "metadata": {
    "id": "Vx3hbPo06AIc"
   },
   "source": [
    "### Solución"
   ]
  },
  {
   "cell_type": "code",
   "execution_count": 27,
   "metadata": {},
   "outputs": [
    {
     "data": {
      "text/plain": [
       "artist                                     song                               \n",
       "The Weeknd                                 Blinding Lights                        90\n",
       "Imagine Dragons                            Radioactive                            87\n",
       "AWOLNATION                                 Sail                                   79\n",
       "Jason Mraz                                 I'm Yours                              76\n",
       "LeAnn Rimes                                How Do I Live                          69\n",
       "LMFAO Featuring Lauren Bennett & GoonRock  Party Rock Anthem                      68\n",
       "OneRepublic                                Counting Stars                         68\n",
       "Jewel                                      Foolish Games/You Were Meant For Me    65\n",
       "Adele                                      Rolling In The Deep                    65\n",
       "Carrie Underwood                           Before He Cheats                       64\n",
       "The Lumineers                              Ho Hey                                 62\n",
       "Lifehouse                                  You And Me                             62\n",
       "Gabby Barrett Featuring Charlie Puth       I Hope                                 62\n",
       "Post Malone                                Circles                                61\n",
       "Imagine Dragons                            Demons                                 61\n",
       "Name: count, dtype: int64"
      ]
     },
     "execution_count": 27,
     "metadata": {},
     "output_type": "execute_result"
    }
   ],
   "source": [
    "df[['artist','song']].value_counts().head(15)\n",
    "\n",
    "# Uso dos [[  ]] para filtrar varias columnas del df"
   ]
  },
  {
   "cell_type": "markdown",
   "metadata": {
    "id": "-oAbLlC6GECY"
   },
   "source": [
    "# Muestre el top 10 de los artistas, canciones y su mejor posición"
   ]
  },
  {
   "cell_type": "markdown",
   "metadata": {
    "id": "J4THpiAz6BeQ"
   },
   "source": [
    "### Solución"
   ]
  },
  {
   "cell_type": "code",
   "execution_count": 28,
   "metadata": {},
   "outputs": [
    {
     "data": {
      "text/plain": [
       "artist                                     song                     peak-rank\n",
       "The Weeknd                                 Blinding Lights          1            74\n",
       "Ed Sheeran                                 Shape Of You             1            58\n",
       "Jason Mraz                                 I'm Yours                6            56\n",
       "LMFAO Featuring Lauren Bennett & GoonRock  Party Rock Anthem        1            54\n",
       "The Black Eyed Peas                        I Gotta Feeling          1            54\n",
       "Justin Timberlake                          Can't Stop The Feeling!  1            52\n",
       "Taylor Swift                               Shake It Off             1            50\n",
       "The Chainsmokers Featuring Halsey          Closer                   1            50\n",
       "Post Malone                                Circles                  1            50\n",
       "Mark Ronson Featuring Bruno Mars           Uptown Funk!             1            49\n",
       "Wiz Khalifa Featuring Charlie Puth         See You Again            1            48\n",
       "Adele                                      Rolling In The Deep      1            48\n",
       "Jonas Brothers                             Sucker                   1            47\n",
       "Savage Garden                              Truly Madly Deeply       1            46\n",
       "Coldplay                                   Viva La Vida             1            46\n",
       "Name: count, dtype: int64"
      ]
     },
     "execution_count": 28,
     "metadata": {},
     "output_type": "execute_result"
    }
   ],
   "source": [
    "df[['artist','song','peak-rank']].value_counts().head(15)"
   ]
  },
  {
   "cell_type": "markdown",
   "metadata": {
    "id": "m3qFQIbDGrpx"
   },
   "source": [
    "# Artistas más reproducidos por semanas\n",
    "\n",
    "Transforme la columna `date` en `datetime`.\n",
    "\n",
    "Use  `set_index` para crear un índice en la columna `date`.\n",
    "\n",
    "Imprima el dataframe con el nuevo índice."
   ]
  },
  {
   "cell_type": "markdown",
   "metadata": {
    "id": "Xd9km70s6Cow"
   },
   "source": [
    "### Solución"
   ]
  },
  {
   "cell_type": "code",
   "execution_count": 29,
   "metadata": {},
   "outputs": [],
   "source": [
    "# Transformamos columan 'date' en datatime\n",
    "\n",
    "df['date'] = pd.to_datetime(df['date'])"
   ]
  },
  {
   "cell_type": "code",
   "execution_count": 30,
   "metadata": {},
   "outputs": [
    {
     "data": {
      "text/html": [
       "<div>\n",
       "<style scoped>\n",
       "    .dataframe tbody tr th:only-of-type {\n",
       "        vertical-align: middle;\n",
       "    }\n",
       "\n",
       "    .dataframe tbody tr th {\n",
       "        vertical-align: top;\n",
       "    }\n",
       "\n",
       "    .dataframe thead th {\n",
       "        text-align: right;\n",
       "    }\n",
       "</style>\n",
       "<table border=\"1\" class=\"dataframe\">\n",
       "  <thead>\n",
       "    <tr style=\"text-align: right;\">\n",
       "      <th></th>\n",
       "      <th>rank</th>\n",
       "      <th>song</th>\n",
       "      <th>artist</th>\n",
       "      <th>last-week</th>\n",
       "      <th>peak-rank</th>\n",
       "      <th>weeks-on-board</th>\n",
       "    </tr>\n",
       "    <tr>\n",
       "      <th>date</th>\n",
       "      <th></th>\n",
       "      <th></th>\n",
       "      <th></th>\n",
       "      <th></th>\n",
       "      <th></th>\n",
       "      <th></th>\n",
       "    </tr>\n",
       "  </thead>\n",
       "  <tbody>\n",
       "    <tr>\n",
       "      <th>2021-11-06</th>\n",
       "      <td>1</td>\n",
       "      <td>Easy On Me</td>\n",
       "      <td>Adele</td>\n",
       "      <td>1.0</td>\n",
       "      <td>1</td>\n",
       "      <td>3</td>\n",
       "    </tr>\n",
       "    <tr>\n",
       "      <th>2021-11-06</th>\n",
       "      <td>2</td>\n",
       "      <td>Stay</td>\n",
       "      <td>The Kid LAROI &amp; Justin Bieber</td>\n",
       "      <td>2.0</td>\n",
       "      <td>1</td>\n",
       "      <td>16</td>\n",
       "    </tr>\n",
       "    <tr>\n",
       "      <th>2021-11-06</th>\n",
       "      <td>3</td>\n",
       "      <td>Industry Baby</td>\n",
       "      <td>Lil Nas X &amp; Jack Harlow</td>\n",
       "      <td>3.0</td>\n",
       "      <td>1</td>\n",
       "      <td>14</td>\n",
       "    </tr>\n",
       "    <tr>\n",
       "      <th>2021-11-06</th>\n",
       "      <td>4</td>\n",
       "      <td>Fancy Like</td>\n",
       "      <td>Walker Hayes</td>\n",
       "      <td>4.0</td>\n",
       "      <td>3</td>\n",
       "      <td>19</td>\n",
       "    </tr>\n",
       "    <tr>\n",
       "      <th>2021-11-06</th>\n",
       "      <td>5</td>\n",
       "      <td>Bad Habits</td>\n",
       "      <td>Ed Sheeran</td>\n",
       "      <td>5.0</td>\n",
       "      <td>2</td>\n",
       "      <td>18</td>\n",
       "    </tr>\n",
       "    <tr>\n",
       "      <th>...</th>\n",
       "      <td>...</td>\n",
       "      <td>...</td>\n",
       "      <td>...</td>\n",
       "      <td>...</td>\n",
       "      <td>...</td>\n",
       "      <td>...</td>\n",
       "    </tr>\n",
       "    <tr>\n",
       "      <th>1958-08-04</th>\n",
       "      <td>96</td>\n",
       "      <td>Over And Over</td>\n",
       "      <td>Thurston Harris</td>\n",
       "      <td>0.0</td>\n",
       "      <td>96</td>\n",
       "      <td>1</td>\n",
       "    </tr>\n",
       "    <tr>\n",
       "      <th>1958-08-04</th>\n",
       "      <td>97</td>\n",
       "      <td>I Believe In You</td>\n",
       "      <td>Robert &amp; Johnny</td>\n",
       "      <td>0.0</td>\n",
       "      <td>97</td>\n",
       "      <td>1</td>\n",
       "    </tr>\n",
       "    <tr>\n",
       "      <th>1958-08-04</th>\n",
       "      <td>98</td>\n",
       "      <td>Little Serenade</td>\n",
       "      <td>The Ames Brothers</td>\n",
       "      <td>0.0</td>\n",
       "      <td>98</td>\n",
       "      <td>1</td>\n",
       "    </tr>\n",
       "    <tr>\n",
       "      <th>1958-08-04</th>\n",
       "      <td>99</td>\n",
       "      <td>I'll Get By (As Long As I Have You)</td>\n",
       "      <td>Billy Williams</td>\n",
       "      <td>0.0</td>\n",
       "      <td>99</td>\n",
       "      <td>1</td>\n",
       "    </tr>\n",
       "    <tr>\n",
       "      <th>1958-08-04</th>\n",
       "      <td>100</td>\n",
       "      <td>Judy</td>\n",
       "      <td>Frankie Vaughan</td>\n",
       "      <td>0.0</td>\n",
       "      <td>100</td>\n",
       "      <td>1</td>\n",
       "    </tr>\n",
       "  </tbody>\n",
       "</table>\n",
       "<p>330087 rows × 6 columns</p>\n",
       "</div>"
      ],
      "text/plain": [
       "            rank                                 song  \\\n",
       "date                                                    \n",
       "2021-11-06     1                           Easy On Me   \n",
       "2021-11-06     2                                 Stay   \n",
       "2021-11-06     3                        Industry Baby   \n",
       "2021-11-06     4                           Fancy Like   \n",
       "2021-11-06     5                           Bad Habits   \n",
       "...          ...                                  ...   \n",
       "1958-08-04    96                        Over And Over   \n",
       "1958-08-04    97                     I Believe In You   \n",
       "1958-08-04    98                      Little Serenade   \n",
       "1958-08-04    99  I'll Get By (As Long As I Have You)   \n",
       "1958-08-04   100                                 Judy   \n",
       "\n",
       "                                   artist  last-week  peak-rank  \\\n",
       "date                                                              \n",
       "2021-11-06                          Adele        1.0          1   \n",
       "2021-11-06  The Kid LAROI & Justin Bieber        2.0          1   \n",
       "2021-11-06        Lil Nas X & Jack Harlow        3.0          1   \n",
       "2021-11-06                   Walker Hayes        4.0          3   \n",
       "2021-11-06                     Ed Sheeran        5.0          2   \n",
       "...                                   ...        ...        ...   \n",
       "1958-08-04                Thurston Harris        0.0         96   \n",
       "1958-08-04                Robert & Johnny        0.0         97   \n",
       "1958-08-04              The Ames Brothers        0.0         98   \n",
       "1958-08-04                 Billy Williams        0.0         99   \n",
       "1958-08-04                Frankie Vaughan        0.0        100   \n",
       "\n",
       "            weeks-on-board  \n",
       "date                        \n",
       "2021-11-06               3  \n",
       "2021-11-06              16  \n",
       "2021-11-06              14  \n",
       "2021-11-06              19  \n",
       "2021-11-06              18  \n",
       "...                    ...  \n",
       "1958-08-04               1  \n",
       "1958-08-04               1  \n",
       "1958-08-04               1  \n",
       "1958-08-04               1  \n",
       "1958-08-04               1  \n",
       "\n",
       "[330087 rows x 6 columns]"
      ]
     },
     "execution_count": 30,
     "metadata": {},
     "output_type": "execute_result"
    }
   ],
   "source": [
    "# Creamos un índice en la columna 'date'\n",
    "\n",
    "df = df.set_index('date')\n",
    "df"
   ]
  },
  {
   "cell_type": "markdown",
   "metadata": {
    "id": "StJF_khaHMPx"
   },
   "source": [
    "# Encuentre los más y menos escuchados según un intervalo de tiempo\n",
    "\n",
    "Puede usar `resample(frecuencia)[columna]`. \n",
    "\n",
    "Las frecuencias que puede usar son:\n",
    "* H - Horaria\n",
    "* D - Diaria\n",
    "* W - Semanal\n",
    "* M - Mensual\n",
    "* A - Anual\n",
    "\n",
    "Puede usar `.agg([columnas])` para agregar los datos"
   ]
  },
  {
   "cell_type": "markdown",
   "metadata": {
    "id": "wC4nmd346DxX"
   },
   "source": [
    "### Solución"
   ]
  },
  {
   "cell_type": "code",
   "execution_count": null,
   "metadata": {},
   "outputs": [
    {
     "data": {
      "text/html": [
       "<div>\n",
       "<style scoped>\n",
       "    .dataframe tbody tr th:only-of-type {\n",
       "        vertical-align: middle;\n",
       "    }\n",
       "\n",
       "    .dataframe tbody tr th {\n",
       "        vertical-align: top;\n",
       "    }\n",
       "\n",
       "    .dataframe thead tr th {\n",
       "        text-align: left;\n",
       "    }\n",
       "\n",
       "    .dataframe thead tr:last-of-type th {\n",
       "        text-align: right;\n",
       "    }\n",
       "</style>\n",
       "<table border=\"1\" class=\"dataframe\">\n",
       "  <thead>\n",
       "    <tr>\n",
       "      <th></th>\n",
       "      <th colspan=\"2\" halign=\"left\">artist</th>\n",
       "    </tr>\n",
       "    <tr>\n",
       "      <th></th>\n",
       "      <th>first</th>\n",
       "      <th>last</th>\n",
       "    </tr>\n",
       "    <tr>\n",
       "      <th>date</th>\n",
       "      <th></th>\n",
       "      <th></th>\n",
       "    </tr>\n",
       "  </thead>\n",
       "  <tbody>\n",
       "    <tr>\n",
       "      <th>1958-08-10</th>\n",
       "      <td>Ricky Nelson</td>\n",
       "      <td>Frankie Vaughan</td>\n",
       "    </tr>\n",
       "    <tr>\n",
       "      <th>1958-08-17</th>\n",
       "      <td>Ricky Nelson</td>\n",
       "      <td>The Kirby Stone Four</td>\n",
       "    </tr>\n",
       "    <tr>\n",
       "      <th>1958-08-24</th>\n",
       "      <td>Domenico Modugno</td>\n",
       "      <td>Count Basie &amp; His Orch.</td>\n",
       "    </tr>\n",
       "    <tr>\n",
       "      <th>1958-08-31</th>\n",
       "      <td>The Elegants</td>\n",
       "      <td>Eileen Rodgers</td>\n",
       "    </tr>\n",
       "    <tr>\n",
       "      <th>1958-09-07</th>\n",
       "      <td>Domenico Modugno</td>\n",
       "      <td>Jill Corey</td>\n",
       "    </tr>\n",
       "    <tr>\n",
       "      <th>...</th>\n",
       "      <td>...</td>\n",
       "      <td>...</td>\n",
       "    </tr>\n",
       "    <tr>\n",
       "      <th>2021-10-10</th>\n",
       "      <td>Coldplay x BTS</td>\n",
       "      <td>Kanye West</td>\n",
       "    </tr>\n",
       "    <tr>\n",
       "      <th>2021-10-17</th>\n",
       "      <td>The Kid LAROI &amp; Justin Bieber</td>\n",
       "      <td>YoungBoy Never Broke Again</td>\n",
       "    </tr>\n",
       "    <tr>\n",
       "      <th>2021-10-24</th>\n",
       "      <td>Lil Nas X &amp; Jack Harlow</td>\n",
       "      <td>YoungBoy Never Broke Again</td>\n",
       "    </tr>\n",
       "    <tr>\n",
       "      <th>2021-10-31</th>\n",
       "      <td>Adele</td>\n",
       "      <td>Priscilla Block</td>\n",
       "    </tr>\n",
       "    <tr>\n",
       "      <th>2021-11-07</th>\n",
       "      <td>Adele</td>\n",
       "      <td>YoungBoy Never Broke Again</td>\n",
       "    </tr>\n",
       "  </tbody>\n",
       "</table>\n",
       "<p>3301 rows × 2 columns</p>\n",
       "</div>"
      ],
      "text/plain": [
       "                                   artist                            \n",
       "                                    first                        last\n",
       "date                                                                 \n",
       "1958-08-10                   Ricky Nelson             Frankie Vaughan\n",
       "1958-08-17                   Ricky Nelson        The Kirby Stone Four\n",
       "1958-08-24               Domenico Modugno     Count Basie & His Orch.\n",
       "1958-08-31                   The Elegants              Eileen Rodgers\n",
       "1958-09-07               Domenico Modugno                  Jill Corey\n",
       "...                                   ...                         ...\n",
       "2021-10-10                 Coldplay x BTS                  Kanye West\n",
       "2021-10-17  The Kid LAROI & Justin Bieber  YoungBoy Never Broke Again\n",
       "2021-10-24        Lil Nas X & Jack Harlow  YoungBoy Never Broke Again\n",
       "2021-10-31                          Adele             Priscilla Block\n",
       "2021-11-07                          Adele  YoungBoy Never Broke Again\n",
       "\n",
       "[3301 rows x 2 columns]"
      ]
     },
     "execution_count": 19,
     "metadata": {},
     "output_type": "execute_result"
    }
   ],
   "source": [
    "df.resample('W').agg({'artist': ['first', 'last']})"
   ]
  }
 ],
 "metadata": {
  "colab": {
   "collapsed_sections": [
    "LAVNhscV5b06",
    "4YyrHo1A5lCK",
    "G7NVJXqd6Law",
    "bhOxZGyxEz24",
    "-oAbLlC6GECY",
    "m3qFQIbDGrpx",
    "StJF_khaHMPx"
   ],
   "name": "[Ejercicio 1] Ranking de música.ipynb",
   "provenance": []
  },
  "kernelspec": {
   "display_name": "mi_entorno",
   "language": "python",
   "name": "python3"
  },
  "language_info": {
   "codemirror_mode": {
    "name": "ipython",
    "version": 3
   },
   "file_extension": ".py",
   "mimetype": "text/x-python",
   "name": "python",
   "nbconvert_exporter": "python",
   "pygments_lexer": "ipython3",
   "version": "3.10.11"
  }
 },
 "nbformat": 4,
 "nbformat_minor": 0
}
